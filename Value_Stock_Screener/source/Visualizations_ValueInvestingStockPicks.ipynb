{
 "cells": [
  {
   "cell_type": "markdown",
   "metadata": {
    "id": "vQCIcCGSneol"
   },
   "source": [
    "# Importing the necessary libraries"
   ]
  },
  {
   "cell_type": "code",
   "execution_count": 1,
   "metadata": {
    "colab": {
     "base_uri": "https://localhost:8080/"
    },
    "id": "11UWSwJ5Esjd",
    "outputId": "7ec40ca3-1990-4b1b-8c4d-c80d180379a5"
   },
   "outputs": [],
   "source": [
    "# Import libraries\n",
    "import requests\n",
    "import pandas as pd\n",
    "import numpy as np\n",
    "import datetime as dt\n",
    "import sys, os\n",
    "\n",
    "#!pip install quandl\n",
    "import quandl\n",
    "\n",
    "#!pip install yfinance\n",
    "import yfinance as yf\n",
    "\n",
    "#!pip install pandas-datareader\n",
    "from pandas_datareader import data as pdr\n",
    "\n",
    "# API Credentials\n",
    "# Note - this is a paid student license, and this API key and resulting data may not be distributed beyond the grading of the project\n",
    "quandl.ApiConfig.api_key = 'Xgwh__VbLXMscAH-oiFi'"
   ]
  },
  {
   "cell_type": "markdown",
   "metadata": {
    "id": "Ts8cLICTnlrl"
   },
   "source": [
    "# Functions to gather data for analysis and visualization"
   ]
  },
  {
   "cell_type": "code",
   "execution_count": 2,
   "metadata": {
    "id": "G26Qr4bXEpIs"
   },
   "outputs": [],
   "source": [
    "# S&P 500 Scraper\n",
    "\n",
    "def sp500_list_retrieval():\n",
    "  \"\"\"\n",
    "  Retrieve the S&P 500 list from the corresponding Wikipedia page.\n",
    "\n",
    "  Returns a dataframe of all tickers and corresponding industry information.\n",
    "  \"\"\"\n",
    "  print(\"Acquiring S&P500 Tickers list.\")\n",
    "\n",
    "  table = pd.read_html('https://en.wikipedia.org/wiki/List_of_S%26P_500_companies')\n",
    "\n",
    "  df = table[0]\n",
    "  df.columns = ['Symbol', \n",
    "                'Security', \n",
    "                'SEC filings', \n",
    "                'GICS Sector', \n",
    "                'GICS Sub Industry', \n",
    "                'Headquarters Location', \n",
    "                'Date First Added', \n",
    "                'CIK', \n",
    "                'Founded'\n",
    "                ]\n",
    "  df.drop(labels=['SEC filings', \n",
    "                  'Headquarters Location', \n",
    "                  'Date First Added', \n",
    "                  'CIK'\n",
    "                  ], \n",
    "          axis=1, \n",
    "          inplace=True\n",
    "          )\n",
    "\n",
    "  return df"
   ]
  },
  {
   "cell_type": "code",
   "execution_count": 3,
   "metadata": {
    "id": "QETpKjjHNSoC"
   },
   "outputs": [],
   "source": [
    "from datetime import date\n",
    "\n",
    "# Fundamental Data Pull from Quandl\n",
    "\n",
    "def fundamentals_data_pull(timeframe='MRT', ticker=[], start_yr='2015', end_date=None):\n",
    "  \"\"\"Pull the fundamentals data for each ticker passed through. If no timeframe\n",
    "  is selected, all timeframes (dimensions) will be pulled. Otherwise, timeframes\n",
    "  may be selected from one of the following:\n",
    "\n",
    "  Select One:\n",
    "  - AR (As Reported)\n",
    "  - MR (Most-Recent Reported)\n",
    "\n",
    "  + One of the Following\n",
    "  - Y (Annual)\n",
    "  - T (Trailing Twelve Months)\n",
    "  - Q (Quarterly)\n",
    "  (i.e. MRY = Most-Recent Reported Annual Data)\n",
    "\n",
    "  Keyword Arguments:\n",
    "  timeframe -- one of the above (default 'MRT')\n",
    "  ticker -- list of stock tickers (default empty list)\n",
    "\n",
    "  Returns:\n",
    "  dict -- keys are tickers, values are dataframe of all Quandl fundamentals data for designated timeframe\n",
    "  \"\"\"\n",
    "  \n",
    "  print(\"Acquiring fundamentals data for tickers.\")\n",
    "  \n",
    "  # Reduce dataset only to years requested\n",
    "  cutoff_date = str(start_yr + \"-01-01\")\n",
    "  #cutoff_date = pd.to_datetime(start_yr + \"-01-01\")\n",
    "  #df = df[df['reportperiod'] > cutoff_date]\n",
    "\n",
    "  if timeframe == None:\n",
    "    timeframe = input(\"Please select a timeframe from 'MRT', 'ART','ARY', or 'MRY':  \")\n",
    "    #df = quandl.get_table('SHARADAR/SF1', ticker=ticker)\n",
    "    # Removing to eliminate confusion with Quarterly results and potential incompatibility down the line -- AB 9/14\n",
    "  \n",
    "  elif timeframe in ['MRT', 'ART','ARY', 'MRY']:\n",
    "    if end_date == None:\n",
    "      end_date = str(date.today())\n",
    "      df = quandl.get_table('SHARADAR/SF1', dimension=timeframe, calendardate={'gte': cutoff_date, 'lte' : end_date}, ticker=ticker, paginate=True)\n",
    "    else:\n",
    "      df = quandl.get_table('SHARADAR/SF1', dimension=timeframe, calendardate={'gte': cutoff_date, 'lte' : end_date}, ticker=ticker, paginate=True)\n",
    "  \n",
    "  elif timeframe in ['MRQ', 'ARQ']:\n",
    "    raise ValueError(\"Quarterly data is not compatible with this analysis. Please select a timeframe from 'MRT', 'ART','ARY', or 'MRY'\")\n",
    "\n",
    "  else:\n",
    "    timeframe = input(\"Please select a timeframe from 'MRT', 'ART','ARY', or 'MRY':  \")\n",
    "\n",
    "\n",
    "  # Create a dictionary where keys are tickers and values are dataframes of fundamentals\n",
    "  fund_dict = {}\n",
    "  for x in ticker:\n",
    "    df0 = df.copy()\n",
    "    df0 = df0[df0['ticker'] == x.upper()]\n",
    "    if len(df0) == 0:\n",
    "      print(\"No data provided for symbol '\" + x.upper() + \"'\")\n",
    "      pass\n",
    "    else:\n",
    "      fund_dict[x.upper()] = df0\n",
    "\n",
    "  return fund_dict\n",
    "\n",
    "\n",
    "# Pricing Data Pull from yfinance\n",
    "\n",
    "def pricing_data(fund_dict):\n",
    "  \"\"\"Pull the pricing data for each ticker.\n",
    "\n",
    "  Keyword Arguments:\n",
    "  fund_dict -- dict, dictionary where k,v pairs are ticker,fundamental_data pairs\n",
    "\n",
    "  Returns:\n",
    "  dict -- keys are tickers\n",
    "  \"\"\"\n",
    "\n",
    "  class HiddenPrints():\n",
    "    def __enter__(self):\n",
    "      self._original_stdout = sys.stdout\n",
    "      sys.stdout = open(os.devnull, 'w')\n",
    "\n",
    "    def __exit__(self, exc_type, exc_val, exc_tb):\n",
    "      sys.stdout.close()\n",
    "      sys.stdout = self._original_stdout\n",
    "\n",
    "  print(\"Acquiring pricing data for tickers.\")\n",
    "\n",
    "  #current_price = {}\n",
    "  to_del = []\n",
    "  # Iterate through dictionary pulling data for that symbol, joining to \n",
    "  # corresponding fundamentals dataframe.\n",
    "  for k in fund_dict:\n",
    "    start_date = min(fund_dict[k]['reportperiod'])\n",
    "    #end_date = max(fund_dict[k]['reportperiod'])\n",
    "    end_date = date.today()\n",
    "\n",
    "    with HiddenPrints():\n",
    "      data = yf.download(k, start=start_date, end=end_date)\n",
    "    \n",
    "    if len(data) > 0:\n",
    "      current_price = data['Close'].iloc[-1]\n",
    "      data.reset_index(inplace=True)\n",
    "      data.rename(columns={\"Date\" : \"reportperiod\"}, inplace=True)\n",
    "\n",
    "      # Sometimes quarter end/reporting period end is not on trading day, will take most recent closing price.\n",
    "      # To do this, we will do an outer join of all data, sort by date, backfill data, then eliminate\n",
    "      # all rows that did not have corresponding reporting data to restore original set + pricing.\n",
    "      fund_dict[k] = pd.merge(fund_dict[k], data, left_on='reportperiod', right_on='reportperiod', how='outer', sort=False)\n",
    "      fund_dict[k].sort_values('reportperiod',ascending=False,inplace=True)\n",
    "      fund_dict[k][['Open', 'High', 'Low', 'Close', 'Adj Close', 'Volume']] = fund_dict[k][['Open', 'High', 'Low', 'Close', 'Adj Close', 'Volume']].bfill() \n",
    "      fund_dict[k].dropna(axis=0, subset=['ticker'], inplace=True)\n",
    "      fund_dict[k]['Current_Price'] = current_price\n",
    "  \n",
    "    elif len(data) == 0:\n",
    "      to_del.append(k)\n",
    "      pass\n",
    "\n",
    "  print(\"Deleting tickers \" + str(to_del) + \" from dataset due to insufficient pricing data.\")\n",
    "  for k in to_del:\n",
    "    del fund_dict[k]\n",
    "\n",
    "  print(\"S&P Ticker Count after Data Acquisition:  \" + str(len(fund_dict.keys())))\n",
    "\n",
    "  return fund_dict"
   ]
  },
  {
   "cell_type": "code",
   "execution_count": 4,
   "metadata": {
    "id": "IB9BVUzCNT9f"
   },
   "outputs": [],
   "source": [
    "# Filtering Metrics\n",
    "\n",
    "# If you would like to add additional calculations and criteria to your strategy,\n",
    "# here is where you would add it.\n",
    "\n",
    "# Make sure any filtering columns are boolean values (True/False) and are labeled\n",
    "# with \"filter_\" for later dynamic dataframe filtering.\n",
    "\n",
    "def pos_yoy_eps(df,timeframe='MRT',eps_type='epsdil'):\n",
    "  \"\"\"Adds a column with a boolean value indicating if yoy eps is positive.\n",
    "\n",
    "  Keyword Arguments:\n",
    "  df\n",
    "  timeframe -- str, dimension being used throughout\n",
    "  eps_type -- str, 'eps' (basic) or 'epsdil' (diluted)\n",
    "\n",
    "  Returns:\n",
    "  df -- dataframe with added boolean column for positive year-over-year eps.\n",
    "  \"\"\"\n",
    "\n",
    "  if timeframe in ['MRT', 'ART']:\n",
    "    df.sort_values('reportperiod',ascending=False,inplace=True)\n",
    "    df['filter_pos_yoy_eps'] = np.where(df[eps_type] > df[eps_type].shift(-4), True, False)\n",
    "  \n",
    "  elif timeframe in ['ARY', 'MRY']:\n",
    "      df.sort_values('reportperiod',ascending=False,inplace=True)\n",
    "      df['filter_pos_yoy_eps'] = np.where(df[eps_type] > df[eps_type].shift(-1), True, False)\n",
    "\n",
    "  return df\n",
    "\n",
    "\n",
    "def roe(df, threshold=0.00):\n",
    "  \"\"\" \n",
    "  Returns ROE as a calculated column (Net Income / Shareholder Equity [Avg])\n",
    "\n",
    "  Keyword Arguments:\n",
    "  df\n",
    "  threshold -- float, percent ROE as decimal threshold (above=True, below=False)\n",
    "\n",
    "  Returns:\n",
    "  df -- dataframe with added 'roe_calc' float column and 'roe_thresh' boolean column\n",
    "  \"\"\"\n",
    "\n",
    "  df['roe_calc'] = df['netinccmnusd'] / df['equityavg']\n",
    "  df['filter_roe_thresh'] = np.where(df['roe_calc'] >= threshold, True, False)\n",
    "\n",
    "  return df\n",
    "  \n",
    "def pos_yoy_roa(df,timeframe='MRT'):\n",
    "  \"\"\"Adds a column with a boolean value indicating if yoy roa is positive.\n",
    "\n",
    "  Keyword Arguments:\n",
    "  df\n",
    "  timeframe -- str, dimension being used throughout\n",
    "\n",
    "  Returns:\n",
    "  df -- dataframe with added boolean column for positive year-over-year roa.\n",
    "  \"\"\"\n",
    "\n",
    "  df['roa_calc'] = df['netinccmnusd'] / df['assetsavg']\n",
    "  \n",
    "  if timeframe in ['MRT', 'ART']:\n",
    "    df.sort_values('reportperiod',ascending=False,inplace=True)\n",
    "    df['filter_pos_yoy_roa'] = np.where(df['roa_calc'] > df['roa_calc'].shift(-4), True, False)\n",
    "  \n",
    "  elif timeframe in ['ARY', 'MRY']:\n",
    "      df.sort_values('reportperiod',ascending=False,inplace=True)\n",
    "      df['filter_pos_yoy_roa'] = np.where(df['roa_calc'] > df['roa_calc'].shift(-1), True, False)\n",
    "  \n",
    "  del df['roa_calc']\n",
    "\n",
    "  return df\n",
    "\n",
    "# Price Target Metrics\n",
    "\n",
    "def pb_price_target(df):\n",
    "  \"\"\" Returns columns for book value per share (price-to-book price target, pb_pt),\n",
    "  boolean value for whether price to book (pb) is less than 1 (pb_value), and \n",
    "  the percentage below price-to-book.\n",
    "  \"\"\"\n",
    "\n",
    "  df['pb_pt'] = df['bvps']\n",
    "  df['filter_pb_value'] = np.where((df['pb'] < 1) & (df['pb'] > 0), True, False)\n",
    "  df['filter_pb_price_target'] = np.where((df['pb_pt'] > df['Current_Price']), True, False)\n",
    "  df['pb_pt_pct_below'] = np.where(df['filter_pb_value'] == True, 1 - (df['Current_Price'] / df['pb_pt']), 0)\n",
    "\n",
    "  return df\n"
   ]
  },
  {
   "cell_type": "code",
   "execution_count": 5,
   "metadata": {
    "id": "Hsg8qnu0FTz6"
   },
   "outputs": [],
   "source": [
    "# Aggregation and Dataset Reduction\n",
    "\n",
    "def metrics_aggregation(df, timeframe='MRT', eps_type='epsdil', roe_threshold=0.10):\n",
    "  \"\"\"Returns dataframe aggregating all of the filtering and price targets.\n",
    "  \"\"\"\n",
    "  ## Add any additional filtering metrics here with any relevant\n",
    "  # Answers objective: Postiive Year-Over-Year Earnings Per Share (EPS)\n",
    "  df = pos_yoy_eps(df, timeframe=timeframe, eps_type=eps_type)\n",
    "  \n",
    "  # Answers objective: Return on Equity > 10%\n",
    "  df = roe(df, threshold=roe_threshold)\n",
    "  \n",
    "  # Answers objective: Return on Assets Increased over Previous Year\n",
    "  df = pos_yoy_roa(df, timeframe=timeframe)\n",
    "\n",
    "  # Answers objective: Price Target\n",
    "  df = pb_price_target(df)\n",
    "\n",
    "  return df\n",
    "  \n",
    "\n",
    "def most_recent(fund_dict):\n",
    "  \"\"\"Returns a dataframe of the most recent valuation data from each ticker in\n",
    "  the dictionary passed through.\n",
    "  \"\"\"\n",
    "  \n",
    "  print(\"Pulling most recent observations.\")\n",
    "  \n",
    "  data = []\n",
    "\n",
    "  for k in fund_dict:\n",
    "    fund_dict[k].sort_values('reportperiod',ascending=False,inplace=True)\n",
    "    row = fund_dict[k].iloc[0]\n",
    "    data.append(row)\n",
    "  \n",
    "  df = pd.DataFrame(data=data)\n",
    "\n",
    "  return df"
   ]
  },
  {
   "cell_type": "markdown",
   "metadata": {
    "id": "noyYnOyQcJWv"
   },
   "source": [
    "# Preparing a dataframe for producing visualizations"
   ]
  },
  {
   "cell_type": "code",
   "execution_count": 6,
   "metadata": {
    "id": "Loo7vx1gZTmg"
   },
   "outputs": [],
   "source": [
    "## Modifying to include additional colums for visualizations ...\n",
    "\n",
    "def viz_output(df):\n",
    "\n",
    "  ticker_info = sp500_list_retrieval()\n",
    "\n",
    "  df = pd.merge(df, ticker_info, left_on='ticker', right_on='Symbol', how='left', sort=False)\n",
    "  df.sort_values(by='pb_pt_pct_below', ascending=False, inplace=True)\n",
    "\n",
    "  df = df[['Symbol', \n",
    "           'Security', \n",
    "           'GICS Sector', \n",
    "           'Current_Price', \n",
    "           'pb_pt_pct_below',\n",
    "           'pb_pt', \n",
    "           'eps',\n",
    "           'roa', \n",
    "           'roe', \n",
    "           'assetturnover', \n",
    "           'de', \n",
    "           'divyield', \n",
    "           'pe',\n",
    "           'filter_pos_yoy_eps',\n",
    "           'filter_roe_thresh',\n",
    "           'filter_pos_yoy_roa',\n",
    "           'filter_pb_value',\n",
    "           'filter_pb_price_target'\n",
    "           ]]\n",
    "\n",
    "  df.rename(columns={'Current_Price' : 'Current Price',\n",
    "                     'pb_pt_pct_below' : '% Below Price Target',\n",
    "                     'pb_pt' : 'Price Target',\n",
    "                     'eps' : 'EPS',\n",
    "                     'roa' : 'ROA',\n",
    "                     'roe' : 'ROE',\n",
    "                     'assetturnover' : 'Asset Turnover',\n",
    "                     'de' : 'Debt-to-Equity',\n",
    "                     'divyield' : 'Dividend Yield',\n",
    "                     'pe' : 'P/E',\n",
    "                     'filter_pos_yoy_eps': 'Filter EPS',\n",
    "                     'filter_roe_thresh': 'Filter ROE',\n",
    "                     'filter_pos_yoy_roa': 'Filter ROA',\n",
    "                     'filter_pb_value': 'Filter PB Value',\n",
    "                     'filter_pb_price_target': 'Filter PB Price Target'\n",
    "                     }, inplace=True)\n",
    "  \n",
    "  df['Current Price'] = df['Current Price'].apply(lambda x: (\"${:,.2f}\").format(x))\n",
    "  df['Price Target'] = df['Price Target'].apply(lambda x: (\"${:,.2f}\").format(x))\n",
    "  df['EPS'] = df['EPS'].apply(lambda x: (\"${:,.2f}\").format(x))\n",
    "  df['ROA'] = df['ROA'].apply(lambda x: (\"{:,.2f}%\").format(x*100))\n",
    "  df['ROE'] = df['ROE'].apply(lambda x: (\"{:,.2f}%\").format(x*100))\n",
    "  df['Asset Turnover'] = df['Asset Turnover'].apply(lambda x: (\"{:,.2f}%\").format(x*100))\n",
    "  df['Dividend Yield'] = df['Dividend Yield'].apply(lambda x: (\"{:,.2f}%\").format(x*100))\n",
    "  df['% Below Price Target'] = df['% Below Price Target'].apply(lambda x: (\"{:,.2f}%\").format(x*100))\n",
    "\n",
    "  return df\n",
    "\n",
    "def prepare_viz_data(dimension='', start_yr='2015', end_date=None, eps_type='epsdil', roe_threshold=0.10):\n",
    "\n",
    "  # Retrieve list of S&P 500 stocks\n",
    "  df = sp500_list_retrieval()\n",
    "  stock_list = list(df['Symbol'].unique())\n",
    "  print(\"S&P 500 Ticker Count:  \" + str(len(stock_list)))\n",
    "\n",
    "  # Retrieve fundamentals data for all S&P 500 stocks\n",
    "  stock_dict = fundamentals_data_pull(timeframe=dimension, ticker=stock_list, start_yr=start_yr, end_date=None)\n",
    "\n",
    "  # Merge pricing data for all stocks\n",
    "  stock_dict = pricing_data(stock_dict)\n",
    "\n",
    "  # Add on filters and price targets\n",
    "  print(\"Calculating filters and metrics.\")\n",
    "  for k in stock_dict:\n",
    "    metrics_aggregation(stock_dict[k], timeframe=dimension, eps_type=eps_type, roe_threshold=0.10)\n",
    "\n",
    "  # Reduce dataset to those that meet criteria\n",
    "  stock_df = most_recent(stock_dict)\n",
    "  stock_df = viz_output(stock_df)\n",
    "\n",
    "  print(\"Analysis Complete.\")\n",
    "  return stock_df"
   ]
  },
  {
   "cell_type": "code",
   "execution_count": null,
   "metadata": {
    "colab": {
     "base_uri": "https://localhost:8080/",
     "height": 289
    },
    "id": "tvazxXBvZyTj",
    "outputId": "2164a557-3991-47e7-daac-be9efab3fafd"
   },
   "outputs": [
    {
     "name": "stdout",
     "output_type": "stream",
     "text": [
      "Acquiring S&P500 Tickers list.\n",
      "S&P 500 Ticker Count:  505\n",
      "Acquiring fundamentals data for tickers.\n",
      "No data provided for symbol 'GOOG'\n",
      "No data provided for symbol 'DISCK'\n",
      "No data provided for symbol 'FRC'\n",
      "No data provided for symbol 'FOX'\n",
      "No data provided for symbol 'NWS'\n",
      "No data provided for symbol 'UA'\n",
      "Acquiring pricing data for tickers.\n",
      "Deleting tickers ['BRK.B', 'BF.B'] from dataset due to insufficient pricing data.\n",
      "S&P Ticker Count after Data Acquisition:  497\n",
      "Calculating filters and metrics.\n",
      "Pulling most recent observations.\n"
     ]
    }
   ],
   "source": [
    "df_viz = prepare_viz_data(dimension='MRT', start_yr='2015', end_date=None, eps_type='epsdil', roe_threshold=0.10)"
   ]
  },
  {
   "cell_type": "code",
   "execution_count": null,
   "metadata": {
    "colab": {
     "base_uri": "https://localhost:8080/",
     "height": 487
    },
    "id": "K-FOeFBMaAKy",
    "outputId": "4bb5e85c-e76a-4bad-987e-97fd58fcb26d"
   },
   "outputs": [],
   "source": [
    "df_viz"
   ]
  },
  {
   "cell_type": "markdown",
   "metadata": {
    "id": "60wudeepo4DX"
   },
   "source": [
    "# Producing visualizations of the value stock filtering steps"
   ]
  },
  {
   "cell_type": "markdown",
   "metadata": {
    "id": "H2_-3VJwqUDA"
   },
   "source": [
    "### Step 0 - Visualization of all S&P 500 stocks for analysis"
   ]
  },
  {
   "cell_type": "code",
   "execution_count": null,
   "metadata": {
    "id": "sJOBIdDvzX_s"
   },
   "outputs": [],
   "source": [
    "# Count number of stocks by GICS Sector\n",
    "\n",
    "# Group dataframe by GICS sector\n",
    "df_viz_all = df_viz.groupby([\"GICS Sector\"])['Symbol'].count()\n",
    "\n",
    "# Converting series to a dataframe\n",
    "df_viz_all = df_viz_all.to_frame()\n",
    "\n",
    "# Renaming columns and resetting index \n",
    "df_viz_all = df_viz_all.reset_index()\n",
    "df_viz_all = df_viz_all.rename(columns={\"Symbol\":\"Total\"})"
   ]
  },
  {
   "cell_type": "code",
   "execution_count": null,
   "metadata": {
    "colab": {
     "base_uri": "https://localhost:8080/",
     "height": 893
    },
    "id": "kKWCHz711LJb",
    "outputId": "5c93e026-1008-4443-b2e5-ba17ee84a1e8"
   },
   "outputs": [
    {
     "data": {
      "image/png": "[encoded data removed]",
      "text/plain": [
       "<Figure size 432x1080 with 1 Axes>"
      ]
     },
     "metadata": {
      "needs_background": "light",
      "tags": []
     },
     "output_type": "display_data"
    }
   ],
   "source": [
    "# Setting up seaborn\n",
    "import matplotlib.pyplot as plt\n",
    "import seaborn as sns\n",
    "f, ax = plt.subplots(figsize=(6, 15))\n",
    "\n",
    "# Plotting all stocks where we have both fundamentals and price data\n",
    "sns.set_color_codes(\"muted\")\n",
    "sns.barplot(x=\"Total\", y=\"GICS Sector\", data=df_viz_all, label=\"All Stocks\", color=\"grey\")\n",
    "\n",
    "# Adding a legend and chart labels\n",
    "ax.legend(ncol=1, loc=\"lower right\", frameon=True)\n",
    "ax.set(xlim=(0, 80),\n",
    "       ylabel=\"GICS Sector\",\n",
    "       xlabel=\"Number of Stocks\",\n",
    "       title='S&P 500 Stocks for Analysis, by GICS Sector')\n",
    "sns.despine(left=True, bottom=True)"
   ]
  },
  {
   "cell_type": "markdown",
   "metadata": {
    "id": "aFBbxu5rqdL8"
   },
   "source": [
    "### Step 1 - Filtering for stocks where current price < book value "
   ]
  },
  {
   "cell_type": "code",
   "execution_count": null,
   "metadata": {
    "colab": {
     "base_uri": "https://localhost:8080/",
     "height": 390
    },
    "id": "Jw6e8_tXRll9",
    "outputId": "16f4189b-0469-4fd6-9edc-ee7225432c89"
   },
   "outputs": [
    {
     "data": {
      "text/html": [
       "<div>\n",
       "<style scoped>\n",
       "    .dataframe tbody tr th:only-of-type {\n",
       "        vertical-align: middle;\n",
       "    }\n",
       "\n",
       "    .dataframe tbody tr th {\n",
       "        vertical-align: top;\n",
       "    }\n",
       "\n",
       "    .dataframe thead th {\n",
       "        text-align: right;\n",
       "    }\n",
       "</style>\n",
       "<table border=\"1\" class=\"dataframe\">\n",
       "  <thead>\n",
       "    <tr style=\"text-align: right;\">\n",
       "      <th></th>\n",
       "      <th>GICS Sector</th>\n",
       "      <th>Price to Book - Fail</th>\n",
       "      <th>Price to Book - Pass</th>\n",
       "      <th>Total</th>\n",
       "    </tr>\n",
       "  </thead>\n",
       "  <tbody>\n",
       "    <tr>\n",
       "      <th>0</th>\n",
       "      <td>Communication Services</td>\n",
       "      <td>21</td>\n",
       "      <td>1</td>\n",
       "      <td>22</td>\n",
       "    </tr>\n",
       "    <tr>\n",
       "      <th>1</th>\n",
       "      <td>Consumer Discretionary</td>\n",
       "      <td>54</td>\n",
       "      <td>6</td>\n",
       "      <td>60</td>\n",
       "    </tr>\n",
       "    <tr>\n",
       "      <th>2</th>\n",
       "      <td>Consumer Staples</td>\n",
       "      <td>29</td>\n",
       "      <td>3</td>\n",
       "      <td>32</td>\n",
       "    </tr>\n",
       "    <tr>\n",
       "      <th>3</th>\n",
       "      <td>Energy</td>\n",
       "      <td>15</td>\n",
       "      <td>11</td>\n",
       "      <td>26</td>\n",
       "    </tr>\n",
       "    <tr>\n",
       "      <th>4</th>\n",
       "      <td>Financials</td>\n",
       "      <td>32</td>\n",
       "      <td>32</td>\n",
       "      <td>64</td>\n",
       "    </tr>\n",
       "    <tr>\n",
       "      <th>5</th>\n",
       "      <td>Health Care</td>\n",
       "      <td>61</td>\n",
       "      <td>1</td>\n",
       "      <td>62</td>\n",
       "    </tr>\n",
       "    <tr>\n",
       "      <th>6</th>\n",
       "      <td>Industrials</td>\n",
       "      <td>73</td>\n",
       "      <td>0</td>\n",
       "      <td>73</td>\n",
       "    </tr>\n",
       "    <tr>\n",
       "      <th>7</th>\n",
       "      <td>Information Technology</td>\n",
       "      <td>68</td>\n",
       "      <td>3</td>\n",
       "      <td>71</td>\n",
       "    </tr>\n",
       "    <tr>\n",
       "      <th>8</th>\n",
       "      <td>Materials</td>\n",
       "      <td>25</td>\n",
       "      <td>3</td>\n",
       "      <td>28</td>\n",
       "    </tr>\n",
       "    <tr>\n",
       "      <th>9</th>\n",
       "      <td>Real Estate</td>\n",
       "      <td>28</td>\n",
       "      <td>3</td>\n",
       "      <td>31</td>\n",
       "    </tr>\n",
       "    <tr>\n",
       "      <th>10</th>\n",
       "      <td>Utilities</td>\n",
       "      <td>28</td>\n",
       "      <td>0</td>\n",
       "      <td>28</td>\n",
       "    </tr>\n",
       "  </tbody>\n",
       "</table>\n",
       "</div>"
      ],
      "text/plain": [
       "               GICS Sector  Price to Book - Fail  Price to Book - Pass  Total\n",
       "0   Communication Services                    21                     1     22\n",
       "1   Consumer Discretionary                    54                     6     60\n",
       "2         Consumer Staples                    29                     3     32\n",
       "3                   Energy                    15                    11     26\n",
       "4               Financials                    32                    32     64\n",
       "5              Health Care                    61                     1     62\n",
       "6              Industrials                    73                     0     73\n",
       "7   Information Technology                    68                     3     71\n",
       "8                Materials                    25                     3     28\n",
       "9              Real Estate                    28                     3     31\n",
       "10               Utilities                    28                     0     28"
      ]
     },
     "execution_count": 111,
     "metadata": {
      "tags": []
     },
     "output_type": "execute_result"
    }
   ],
   "source": [
    "# Step 1 - Filtering for stocks where current price < book value\n",
    "\n",
    "# Setting up a reformatted df for the analysis\n",
    "df_viz_pbtarget = df_viz.groupby([\"GICS Sector\",\"Filter PB Price Target\"])[\"Filter PB Price Target\"].count()\n",
    "\n",
    "# Converting to a dataframe\n",
    "df_viz_pbtarget = df_viz_pbtarget.to_frame()\n",
    "\n",
    "# Renaming columns and resetting index \n",
    "df_viz_pbtarget.rename(columns={\"Filter PB Price Target\":\"Filter PB Price Target - Pass Check\"})\n",
    "df_viz_pbtarget.columns= ['Stock Count']\n",
    "\n",
    "# Some more reformatting of the dataframe for visualization\n",
    "df_viz_pbtarget = df_viz_pbtarget.reset_index()\n",
    "df_viz_pbtarget_fail = df_viz_pbtarget[df_viz_pbtarget[\"Filter PB Price Target\"]==False].drop(columns=['Filter PB Price Target']).rename(columns={\"Stock Count\": \"Price to Book - Fail\"})\n",
    "df_viz_pbtarget_pass = df_viz_pbtarget[df_viz_pbtarget[\"Filter PB Price Target\"]==True].drop(columns=['Filter PB Price Target']).rename(columns={\"Stock Count\": \"Price to Book - Pass\"})\n",
    "df_viz_pbtarget_final = df_viz_pbtarget_fail.merge(df_viz_pbtarget_pass, on='GICS Sector', how='outer').fillna(0)\n",
    "df_viz_pbtarget_final['Price to Book - Pass'] = df_viz_pbtarget_final['Price to Book - Pass'].astype(np.int64)\n",
    "\n",
    "# Combining to form a total column\n",
    "df_viz_pbtarget_final['Total'] = df_viz_pbtarget_final['Price to Book - Fail'] + df_viz_pbtarget_final['Price to Book - Pass']\n",
    "df_viz_pbtarget_final"
   ]
  },
  {
   "cell_type": "code",
   "execution_count": null,
   "metadata": {
    "colab": {
     "base_uri": "https://localhost:8080/",
     "height": 893
    },
    "id": "7CgGhOY6Rhkz",
    "outputId": "974925d4-b7bc-4fee-c224-02c635729e7b"
   },
   "outputs": [
    {
     "data": {
      "image/png": "[encoded data removed]",
      "text/plain": [
       "<Figure size 432x1080 with 1 Axes>"
      ]
     },
     "metadata": {
      "needs_background": "light",
      "tags": []
     },
     "output_type": "display_data"
    }
   ],
   "source": [
    "# Step 1 - Price to book filtering - visualizing stocks to remove:\n",
    "\n",
    "# Setting up seaborn\n",
    "import matplotlib.pyplot as plt\n",
    "import seaborn as sns\n",
    "f, ax = plt.subplots(figsize=(6, 15))\n",
    "\n",
    "# Visualizing the stocks to be removed\n",
    "# Note - using a bit of a trick here by having the total bar as red, and, then overlaying stocks to keep. This functions as a way to display a stacked bar chart.\n",
    "sns.set_color_codes(\"bright\")\n",
    "sns.barplot(x=\"Total\", y=\"GICS Sector\", data=df_viz_pbtarget_final, label=\"Price to Book - Fail\", color=\"r\",hatch=\"//\")\n",
    "\n",
    "# Visualizing the stocks to keep\n",
    "sns.set_color_codes(\"bright\")\n",
    "sns.barplot(x=\"Price to Book - Pass\", y=\"GICS Sector\", data=df_viz_pbtarget_final, label=\"Price to Book - Pass\", color=\"g\")\n",
    "\n",
    "# Adding a legend axis labels\n",
    "ax.legend(ncol=1, loc=\"lower right\", frameon=True)\n",
    "ax.set(xlim=(0, 80),\n",
    "       ylabel=\"GICS Sector\",\n",
    "       xlabel=\"Number of Stocks\",\n",
    "       title='Step 1: Price to Book Filter - Removal Step')\n",
    "sns.despine(left=True, bottom=True)"
   ]
  },
  {
   "cell_type": "code",
   "execution_count": null,
   "metadata": {
    "colab": {
     "base_uri": "https://localhost:8080/",
     "height": 893
    },
    "id": "a8AWtpwcqfvU",
    "outputId": "12c12993-9ad3-480b-cb77-c73336fbc0ba"
   },
   "outputs": [
    {
     "data": {
      "image/png": "[encoded data removed]",
      "text/plain": [
       "<Figure size 432x1080 with 1 Axes>"
      ]
     },
     "metadata": {
      "needs_background": "light",
      "tags": []
     },
     "output_type": "display_data"
    }
   ],
   "source": [
    "# Step 1 - Price to book filtering - visualizing stocks to keep:\n",
    "\n",
    "# Setting up seaborn\n",
    "import matplotlib.pyplot as plt\n",
    "import seaborn as sns\n",
    "f, ax = plt.subplots(figsize=(6, 15))\n",
    "\n",
    "# Commenting out the removed stocks\n",
    "# sns.set_color_codes(\"bright\")\n",
    "# sns.barplot(x=\"Total\", y=\"GICS Sector\", data=df_viz_pbtarget_final, label=\"Price to Book - Fail\", color=\"r\",hatch=\"//\")\n",
    "\n",
    "# Now, only displaying the stocks to keep\n",
    "sns.set_color_codes(\"bright\")\n",
    "sns.barplot(x=\"Price to Book - Pass\", y=\"GICS Sector\", data=df_viz_pbtarget_final, label=\"Price to Book - Pass\", color=\"g\")\n",
    "\n",
    "# Adding a legend and axis labels\n",
    "ax.legend(ncol=1, loc=\"lower right\", frameon=True)\n",
    "ax.set(xlim=(0, 80),\n",
    "       ylabel=\"GICS Sector\",\n",
    "       xlabel=\"Number of Stocks\",\n",
    "       title='Step 1: Price to Book Filter - Stocks Remaining after Filter')\n",
    "sns.despine(left=True, bottom=True)"
   ]
  },
  {
   "cell_type": "markdown",
   "metadata": {
    "id": "REf9eUiNuh3k"
   },
   "source": [
    "### Step 2 - Filtering for stocks where ROE > Threshold Set"
   ]
  },
  {
   "cell_type": "code",
   "execution_count": null,
   "metadata": {
    "colab": {
     "base_uri": "https://localhost:8080/",
     "height": 328
    },
    "id": "ez3UZaxPV6RB",
    "outputId": "4d5e25a1-d372-4d9f-f4fb-fe9ced1df03b"
   },
   "outputs": [
    {
     "data": {
      "text/html": [
       "<div>\n",
       "<style scoped>\n",
       "    .dataframe tbody tr th:only-of-type {\n",
       "        vertical-align: middle;\n",
       "    }\n",
       "\n",
       "    .dataframe tbody tr th {\n",
       "        vertical-align: top;\n",
       "    }\n",
       "\n",
       "    .dataframe thead th {\n",
       "        text-align: right;\n",
       "    }\n",
       "</style>\n",
       "<table border=\"1\" class=\"dataframe\">\n",
       "  <thead>\n",
       "    <tr style=\"text-align: right;\">\n",
       "      <th></th>\n",
       "      <th>GICS Sector</th>\n",
       "      <th>ROE Threshold - Fail</th>\n",
       "      <th>ROE Threshold - Pass</th>\n",
       "      <th>Total</th>\n",
       "    </tr>\n",
       "  </thead>\n",
       "  <tbody>\n",
       "    <tr>\n",
       "      <th>0</th>\n",
       "      <td>Communication Services</td>\n",
       "      <td>1</td>\n",
       "      <td>0</td>\n",
       "      <td>1</td>\n",
       "    </tr>\n",
       "    <tr>\n",
       "      <th>1</th>\n",
       "      <td>Consumer Discretionary</td>\n",
       "      <td>6</td>\n",
       "      <td>0</td>\n",
       "      <td>6</td>\n",
       "    </tr>\n",
       "    <tr>\n",
       "      <th>2</th>\n",
       "      <td>Consumer Staples</td>\n",
       "      <td>3</td>\n",
       "      <td>0</td>\n",
       "      <td>3</td>\n",
       "    </tr>\n",
       "    <tr>\n",
       "      <th>3</th>\n",
       "      <td>Energy</td>\n",
       "      <td>11</td>\n",
       "      <td>0</td>\n",
       "      <td>11</td>\n",
       "    </tr>\n",
       "    <tr>\n",
       "      <th>4</th>\n",
       "      <td>Financials</td>\n",
       "      <td>25</td>\n",
       "      <td>7</td>\n",
       "      <td>32</td>\n",
       "    </tr>\n",
       "    <tr>\n",
       "      <th>5</th>\n",
       "      <td>Health Care</td>\n",
       "      <td>1</td>\n",
       "      <td>0</td>\n",
       "      <td>1</td>\n",
       "    </tr>\n",
       "    <tr>\n",
       "      <th>6</th>\n",
       "      <td>Information Technology</td>\n",
       "      <td>2</td>\n",
       "      <td>1</td>\n",
       "      <td>3</td>\n",
       "    </tr>\n",
       "    <tr>\n",
       "      <th>7</th>\n",
       "      <td>Materials</td>\n",
       "      <td>3</td>\n",
       "      <td>0</td>\n",
       "      <td>3</td>\n",
       "    </tr>\n",
       "    <tr>\n",
       "      <th>8</th>\n",
       "      <td>Real Estate</td>\n",
       "      <td>2</td>\n",
       "      <td>1</td>\n",
       "      <td>3</td>\n",
       "    </tr>\n",
       "  </tbody>\n",
       "</table>\n",
       "</div>"
      ],
      "text/plain": [
       "              GICS Sector  ROE Threshold - Fail  ROE Threshold - Pass  Total\n",
       "0  Communication Services                     1                     0      1\n",
       "1  Consumer Discretionary                     6                     0      6\n",
       "2        Consumer Staples                     3                     0      3\n",
       "3                  Energy                    11                     0     11\n",
       "4              Financials                    25                     7     32\n",
       "5             Health Care                     1                     0      1\n",
       "6  Information Technology                     2                     1      3\n",
       "7               Materials                     3                     0      3\n",
       "8             Real Estate                     2                     1      3"
      ]
     },
     "execution_count": 114,
     "metadata": {
      "tags": []
     },
     "output_type": "execute_result"
    }
   ],
   "source": [
    "# Step 2 - Add on Filter on ROE threshold:\n",
    "# Note, this threshold can be set in the code, but was set to ROE > 10% for the analysis.\n",
    "\n",
    "# First filter to just the set where price to book passed in Step 1.\n",
    "# We will continue to add additional filters to show how the number of stocks is being reduced.\n",
    "df_viz_roe = df_viz[df_viz['Filter PB Price Target']==True]\n",
    "df_viz_roe = df_viz_roe.groupby([\"GICS Sector\",\"Filter ROE\"])[\"Filter ROE\"].count()\n",
    "\n",
    "# Converting to a dataframe\n",
    "df_viz_roe = df_viz_roe.to_frame()\n",
    "\n",
    "# Renaming columns and resetting index \n",
    "df_viz_roe.rename(columns={\"Filter ROE\":\"Filter ROE - Pass Check\"})\n",
    "df_viz_roe.columns= ['Stock Count']\n",
    "\n",
    "# Some more reformatting\n",
    "df_viz_roe = df_viz_roe.reset_index()\n",
    "df_viz_roe_fail = df_viz_roe[df_viz_roe[\"Filter ROE\"]==False].drop(columns=['Filter ROE']).rename(columns={\"Stock Count\": \"ROE Threshold - Fail\"})\n",
    "df_viz_roe_pass = df_viz_roe[df_viz_roe[\"Filter ROE\"]==True].drop(columns=['Filter ROE']).rename(columns={\"Stock Count\": \"ROE Threshold - Pass\"})\n",
    "df_viz_roe_final = df_viz_roe_fail.merge(df_viz_roe_pass, on='GICS Sector', how='outer').fillna(0)\n",
    "df_viz_roe_final['ROE Threshold - Pass'] = df_viz_roe_final['ROE Threshold - Pass'].astype(np.int64)\n",
    "df_viz_roe_final\n",
    "\n",
    "# Combining to form a total column\n",
    "df_viz_roe_final['Total'] = df_viz_roe_final['ROE Threshold - Fail'] + df_viz_roe_final['ROE Threshold - Pass']\n",
    "df_viz_roe_final"
   ]
  },
  {
   "cell_type": "code",
   "execution_count": null,
   "metadata": {
    "colab": {
     "base_uri": "https://localhost:8080/",
     "height": 893
    },
    "id": "egrE_d08mEyq",
    "outputId": "f7dfcfbb-7bcc-4dc7-c642-b03441b7eb58"
   },
   "outputs": [
    {
     "data": {
      "image/png": "[encoded data removed]",
      "text/plain": [
       "<Figure size 432x1080 with 1 Axes>"
      ]
     },
     "metadata": {
      "needs_background": "light",
      "tags": []
     },
     "output_type": "display_data"
    }
   ],
   "source": [
    "# Step 2 - ROE threshold - visualizing stocks to remove:\n",
    "\n",
    "# Setting up seaborn\n",
    "import matplotlib.pyplot as plt\n",
    "import seaborn as sns\n",
    "f, ax = plt.subplots(figsize=(6, 15))\n",
    "\n",
    "# Visualizing the stocks to be removed\n",
    "# Note - using a bit of a trick here by having the total bar as red, and, then overlaying stocks to keep. This functions as a way to display a stacked bar chart. \n",
    "sns.set_color_codes(\"bright\")\n",
    "sns.barplot(x=\"Total\", y=\"GICS Sector\", data=df_viz_roe_final, label=\"ROE Threshold - Fail\", color=\"r\",hatch=\"//\")\n",
    "\n",
    "# Visualizing the stocks to keep\n",
    "sns.set_color_codes(\"bright\")\n",
    "sns.barplot(x=\"ROE Threshold - Pass\", y=\"GICS Sector\", data=df_viz_roe_final, label=\"ROE Threshold - Pass\", color=\"g\")\n",
    "\n",
    "# Adding a legend and axis labels\n",
    "ax.legend(ncol=1, loc=\"lower right\", frameon=True)\n",
    "ax.set(xlim=(0, 80),\n",
    "       ylabel=\"GICS Sector\",\n",
    "       xlabel=\"Number of Stocks\",\n",
    "       title='Step 2: ROE Filter - Removal Step')\n",
    "sns.despine(left=True, bottom=True)"
   ]
  },
  {
   "cell_type": "code",
   "execution_count": null,
   "metadata": {
    "colab": {
     "base_uri": "https://localhost:8080/",
     "height": 893
    },
    "id": "aJkzjsQHrqha",
    "outputId": "dae31070-796a-4a8e-8c38-860e5fecfdd8"
   },
   "outputs": [
    {
     "data": {
      "image/png": "[encoded data removed]",
      "text/plain": [
       "<Figure size 432x1080 with 1 Axes>"
      ]
     },
     "metadata": {
      "needs_background": "light",
      "tags": []
     },
     "output_type": "display_data"
    }
   ],
   "source": [
    "# Step 2 - ROE threshold - visualizing stocks to keep:\n",
    "\n",
    "# Setting up seaborn\n",
    "import matplotlib.pyplot as plt\n",
    "import seaborn as sns\n",
    "f, ax = plt.subplots(figsize=(6, 15))\n",
    "\n",
    "# Commenting out the removed stocks \n",
    "# sns.set_color_codes(\"bright\")\n",
    "# sns.barplot(x=\"Total\", y=\"GICS Sector\", data=df_viz_roe_final, label=\"ROE Threshold - Fail\", color=\"r\",hatch=\"//\")\n",
    "\n",
    "# Now, only displaying the stocks to keep \n",
    "sns.set_color_codes(\"bright\")\n",
    "sns.barplot(x=\"ROE Threshold - Pass\", y=\"GICS Sector\", data=df_viz_roe_final, label=\"ROE Threshold - Pass\", color=\"g\")\n",
    "\n",
    "# Adding a legend axis labels\n",
    "ax.legend(ncol=1, loc=\"lower right\", frameon=True)\n",
    "ax.set(xlim=(0, 80),\n",
    "       ylabel=\"GICS Sector\",\n",
    "       xlabel=\"Number of Stocks\",\n",
    "       title='Step 2: ROE Filter - Stocks Remaining after Filter')\n",
    "sns.despine(left=True, bottom=True)"
   ]
  },
  {
   "cell_type": "markdown",
   "metadata": {
    "id": "nNwn7yVLx7di"
   },
   "source": [
    "### Step 3 - Filtering for stocks with positive YOY ROA\n"
   ]
  },
  {
   "cell_type": "code",
   "execution_count": null,
   "metadata": {
    "colab": {
     "base_uri": "https://localhost:8080/",
     "height": 142
    },
    "id": "9iNl1nqNo69t",
    "outputId": "21571857-67d5-4cbc-feaa-fec181ce4c20"
   },
   "outputs": [
    {
     "data": {
      "text/html": [
       "<div>\n",
       "<style scoped>\n",
       "    .dataframe tbody tr th:only-of-type {\n",
       "        vertical-align: middle;\n",
       "    }\n",
       "\n",
       "    .dataframe tbody tr th {\n",
       "        vertical-align: top;\n",
       "    }\n",
       "\n",
       "    .dataframe thead th {\n",
       "        text-align: right;\n",
       "    }\n",
       "</style>\n",
       "<table border=\"1\" class=\"dataframe\">\n",
       "  <thead>\n",
       "    <tr style=\"text-align: right;\">\n",
       "      <th></th>\n",
       "      <th>GICS Sector</th>\n",
       "      <th>Positive ROA YOY - Fail</th>\n",
       "      <th>Positive ROA YOY - Pass</th>\n",
       "      <th>Total</th>\n",
       "    </tr>\n",
       "  </thead>\n",
       "  <tbody>\n",
       "    <tr>\n",
       "      <th>0</th>\n",
       "      <td>Financials</td>\n",
       "      <td>3</td>\n",
       "      <td>4</td>\n",
       "      <td>7</td>\n",
       "    </tr>\n",
       "    <tr>\n",
       "      <th>1</th>\n",
       "      <td>Information Technology</td>\n",
       "      <td>0</td>\n",
       "      <td>1</td>\n",
       "      <td>1</td>\n",
       "    </tr>\n",
       "    <tr>\n",
       "      <th>2</th>\n",
       "      <td>Real Estate</td>\n",
       "      <td>0</td>\n",
       "      <td>1</td>\n",
       "      <td>1</td>\n",
       "    </tr>\n",
       "  </tbody>\n",
       "</table>\n",
       "</div>"
      ],
      "text/plain": [
       "              GICS Sector  ...  Total\n",
       "0              Financials  ...      7\n",
       "1  Information Technology  ...      1\n",
       "2             Real Estate  ...      1\n",
       "\n",
       "[3 rows x 4 columns]"
      ]
     },
     "execution_count": 117,
     "metadata": {
      "tags": []
     },
     "output_type": "execute_result"
    }
   ],
   "source": [
    "# Step 3 - Add on Filter for positive YOY ROA:\n",
    "\n",
    "# Adding filters to filter down stocks for what passed the previous two checks\n",
    "df_viz_roa = df_viz[df_viz['Filter PB Price Target']==True]\n",
    "df_viz_roa = df_viz_roa[df_viz_roa['Filter ROE']==True]\n",
    "df_viz_roa = df_viz_roa.groupby([\"GICS Sector\",\"Filter ROA\"])[\"Filter ROA\"].count()\n",
    "\n",
    "# Converting to a dataframe\n",
    "df_viz_roa = df_viz_roa.to_frame()\n",
    "\n",
    "# Renaming columns and resetting index \n",
    "df_viz_roa.rename(columns={\"Filter ROA\":\"Filter ROA - Pass Check\"})\n",
    "df_viz_roa.columns= ['Stock Count']\n",
    "\n",
    "# Some more reformatting\n",
    "df_viz_roa = df_viz_roa.reset_index()\n",
    "df_viz_roa_fail = df_viz_roa[df_viz_roa[\"Filter ROA\"]==False].drop(columns=['Filter ROA']).rename(columns={\"Stock Count\": \"Positive ROA YOY - Fail\"})\n",
    "df_viz_roa_pass = df_viz_roa[df_viz_roa[\"Filter ROA\"]==True].drop(columns=['Filter ROA']).rename(columns={\"Stock Count\": \"Positive ROA YOY - Pass\"})\n",
    "df_viz_roa_final = df_viz_roa_fail.merge(df_viz_roa_pass, on='GICS Sector', how='outer').fillna(0)\n",
    "df_viz_roa_final['Positive ROA YOY - Fail'] = df_viz_roa_final['Positive ROA YOY - Fail'].astype(np.int64)\n",
    "df_viz_roa_final\n",
    "\n",
    "# Combining to form a total column\n",
    "df_viz_roa_final['Total'] = df_viz_roa_final['Positive ROA YOY - Fail'] + df_viz_roa_final['Positive ROA YOY - Pass']\n",
    "df_viz_roa_final['Total'] = df_viz_roa_final['Total'].astype(np.int64)\n",
    "df_viz_roa_final"
   ]
  },
  {
   "cell_type": "code",
   "execution_count": null,
   "metadata": {
    "colab": {
     "base_uri": "https://localhost:8080/",
     "height": 893
    },
    "id": "o_Hn2WEirLD9",
    "outputId": "1d071894-97e6-4f3f-8b16-f7c1b781b15e"
   },
   "outputs": [
    {
     "data": {
      "image/png": "[encoded data removed]",
      "text/plain": [
       "<Figure size 432x1080 with 1 Axes>"
      ]
     },
     "metadata": {
      "needs_background": "light",
      "tags": []
     },
     "output_type": "display_data"
    }
   ],
   "source": [
    "# Step 3 - Positive ROA YOY - visualizing stocks to remove:\n",
    "\n",
    "# Setting up seaborn\n",
    "import matplotlib.pyplot as plt\n",
    "import seaborn as sns\n",
    "f, ax = plt.subplots(figsize=(6, 15))\n",
    "\n",
    "# Visualizing the stocks to be removed\n",
    "# Note - using a bit of a trick here by having the total bar as red, and, then overlaying stocks to keep. This functions as a way to display a stacked bar chart. \n",
    "sns.set_color_codes(\"bright\")\n",
    "sns.barplot(x=\"Total\", y=\"GICS Sector\", data=df_viz_roa_final, label=\"Positive ROA YOY - Fail\", color=\"r\",hatch=\"//\")\n",
    "\n",
    "# Visualizing the stocks to keep \n",
    "sns.set_color_codes(\"bright\")\n",
    "sns.barplot(x=\"Positive ROA YOY - Pass\", y=\"GICS Sector\", data=df_viz_roa_final, label=\"Positive ROA YOY - Pass\", color=\"g\")\n",
    "\n",
    "# Adding a legend and axis labels\n",
    "ax.legend(ncol=1, loc=\"lower right\", frameon=True)\n",
    "ax.set(xlim=(0, 40),\n",
    "       ylabel=\"GICS Sector\",\n",
    "       xlabel=\"Number of Stocks\",\n",
    "       title='Step 3: ROA Filter - Removal Step')\n",
    "sns.despine(left=True, bottom=True)"
   ]
  },
  {
   "cell_type": "code",
   "execution_count": null,
   "metadata": {
    "colab": {
     "base_uri": "https://localhost:8080/",
     "height": 893
    },
    "id": "jz9DYZPi39KU",
    "outputId": "6643703e-8d1e-4b33-fe1e-432498712836"
   },
   "outputs": [
    {
     "data": {
      "image/png": "[encoded data removed]",
      "text/plain": [
       "<Figure size 432x1080 with 1 Axes>"
      ]
     },
     "metadata": {
      "needs_background": "light",
      "tags": []
     },
     "output_type": "display_data"
    }
   ],
   "source": [
    "# Step 3 - Positive ROA YOY - visualizing stocks to keep:\n",
    "\n",
    "# Setting up seaborn\n",
    "import matplotlib.pyplot as plt\n",
    "import seaborn as sns\n",
    "f, ax = plt.subplots(figsize=(6, 15))\n",
    "\n",
    "# Commenting out the removed stocks  \n",
    "# sns.set_color_codes(\"bright\")\n",
    "# sns.barplot(x=\"Total\", y=\"GICS Sector\", data=df_viz_roa_final, label=\"Positive ROA YOY - Fail\", color=\"r\",hatch=\"//\")\n",
    "\n",
    "# Now, only displaying the stocks to keep  \n",
    "sns.set_color_codes(\"bright\")\n",
    "sns.barplot(x=\"Positive ROA YOY - Pass\", y=\"GICS Sector\", data=df_viz_roa_final, label=\"Positive ROA YOY - Pass\", color=\"g\")\n",
    "\n",
    "# Adding a legend and axis labels\n",
    "ax.legend(ncol=1, loc=\"lower right\", frameon=True)\n",
    "ax.set(xlim=(0, 40),\n",
    "       ylabel=\"GICS Sector\",\n",
    "       xlabel=\"Number of Stocks\",\n",
    "       title='Step 3: ROA Filter - Stocks Remaining after Filter')\n",
    "sns.despine(left=True, bottom=True)"
   ]
  },
  {
   "cell_type": "markdown",
   "metadata": {
    "id": "XCKnpie1yEFA"
   },
   "source": [
    "### Step 4 - Filtering for stocks with positive YOY EPS"
   ]
  },
  {
   "cell_type": "code",
   "execution_count": null,
   "metadata": {
    "colab": {
     "base_uri": "https://localhost:8080/",
     "height": 142
    },
    "id": "1u-ebq6DwcC5",
    "outputId": "afea8707-500d-4959-bec2-650edf40905a"
   },
   "outputs": [
    {
     "data": {
      "text/html": [
       "<div>\n",
       "<style scoped>\n",
       "    .dataframe tbody tr th:only-of-type {\n",
       "        vertical-align: middle;\n",
       "    }\n",
       "\n",
       "    .dataframe tbody tr th {\n",
       "        vertical-align: top;\n",
       "    }\n",
       "\n",
       "    .dataframe thead th {\n",
       "        text-align: right;\n",
       "    }\n",
       "</style>\n",
       "<table border=\"1\" class=\"dataframe\">\n",
       "  <thead>\n",
       "    <tr style=\"text-align: right;\">\n",
       "      <th></th>\n",
       "      <th>Positive EPS YOY - Fail</th>\n",
       "      <th>GICS Sector</th>\n",
       "      <th>Positive EPS YOY - Pass</th>\n",
       "      <th>Total</th>\n",
       "    </tr>\n",
       "  </thead>\n",
       "  <tbody>\n",
       "    <tr>\n",
       "      <th>0</th>\n",
       "      <td>0</td>\n",
       "      <td>Financials</td>\n",
       "      <td>4</td>\n",
       "      <td>4</td>\n",
       "    </tr>\n",
       "    <tr>\n",
       "      <th>1</th>\n",
       "      <td>0</td>\n",
       "      <td>Information Technology</td>\n",
       "      <td>1</td>\n",
       "      <td>1</td>\n",
       "    </tr>\n",
       "    <tr>\n",
       "      <th>2</th>\n",
       "      <td>0</td>\n",
       "      <td>Real Estate</td>\n",
       "      <td>1</td>\n",
       "      <td>1</td>\n",
       "    </tr>\n",
       "  </tbody>\n",
       "</table>\n",
       "</div>"
      ],
      "text/plain": [
       "   Positive EPS YOY - Fail  ... Total\n",
       "0                        0  ...     4\n",
       "1                        0  ...     1\n",
       "2                        0  ...     1\n",
       "\n",
       "[3 rows x 4 columns]"
      ]
     },
     "execution_count": 120,
     "metadata": {
      "tags": []
     },
     "output_type": "execute_result"
    }
   ],
   "source": [
    "# Step 4 - Add on Filter on YOY Filter EPS:\n",
    "\n",
    "# Adding filters to filter down stocks for what passed the previous three checks\n",
    "df_viz_eps = df_viz[df_viz['Filter PB Price Target']==True]\n",
    "df_viz_eps = df_viz_eps[df_viz_eps['Filter ROE']==True]\n",
    "df_viz_eps = df_viz_eps[df_viz_eps['Filter ROA']==True]\n",
    "df_viz_eps = df_viz_eps.groupby([\"GICS Sector\",\"Filter EPS\"])[\"Filter EPS\"].count()\n",
    "\n",
    "# Converting to a dataframe\n",
    "df_viz_eps = df_viz_eps.to_frame()\n",
    "\n",
    "# Renaming columns and resetting index \n",
    "df_viz_eps.rename(columns={\"Filter EPS\":\"Filter EPS - Pass Check\"})\n",
    "df_viz_eps.columns= ['Stock Count']\n",
    "\n",
    "# Some more reformatting\n",
    "df_viz_eps = df_viz_eps.reset_index()\n",
    "df_viz_eps_fail = df_viz_eps[df_viz_eps[\"Filter EPS\"]==False].drop(columns=['Filter EPS']).rename(columns={\"Stock Count\": \"Positive EPS YOY - Fail\"})\n",
    "df_viz_eps_pass = df_viz_eps[df_viz_eps[\"Filter EPS\"]==True].drop(columns=['Filter EPS']).rename(columns={\"Stock Count\": \"Positive EPS YOY - Pass\"})\n",
    "df_viz_eps_final = df_viz_eps_fail.merge(df_viz_eps_pass, on='GICS Sector', how='outer').fillna(0)\n",
    "df_viz_eps_final['Positive EPS YOY - Fail'] = df_viz_eps_final['Positive EPS YOY - Fail'].astype(np.int64)\n",
    "df_viz_eps_final\n",
    "\n",
    "# Combining to form a total column\n",
    "df_viz_eps_final['Total'] = df_viz_eps_final['Positive EPS YOY - Fail'] + df_viz_eps_final['Positive EPS YOY - Pass']\n",
    "df_viz_eps_final['Total'] = df_viz_eps_final['Total'].astype(np.int64)\n",
    "df_viz_eps_final"
   ]
  },
  {
   "cell_type": "code",
   "execution_count": null,
   "metadata": {
    "colab": {
     "base_uri": "https://localhost:8080/",
     "height": 893
    },
    "id": "6JEx9ymPxghK",
    "outputId": "3dc17c2b-9d26-41ad-bbda-bc7a7cdeaf7a"
   },
   "outputs": [
    {
     "data": {
      "image/png": "[encoded data removed]",
      "text/plain": [
       "<Figure size 432x1080 with 1 Axes>"
      ]
     },
     "metadata": {
      "needs_background": "light",
      "tags": []
     },
     "output_type": "display_data"
    }
   ],
   "source": [
    "# Step 4 - Positive EPS YOY - visualizing stocks to remove:\n",
    "\n",
    "# Setting up seaborn\n",
    "import matplotlib.pyplot as plt\n",
    "import seaborn as sns\n",
    "f, ax = plt.subplots(figsize=(6, 15))\n",
    "\n",
    "# Visualizing the stocks to be removed\n",
    "# Note - using a bit of a trick here by having the total bar as red, and, then overlaying stocks to keep. This functions as a way to display a stacked bar chart. \n",
    "sns.set_color_codes(\"bright\")\n",
    "sns.barplot(x=\"Total\", y=\"GICS Sector\", data=df_viz_eps_final, label=\"Positive EPS YOY - Fail\", color=\"r\",hatch=\"//\")\n",
    "\n",
    "# Visualizing the stocks to keep  \n",
    "sns.set_color_codes(\"bright\")\n",
    "sns.barplot(x=\"Positive EPS YOY - Pass\", y=\"GICS Sector\", data=df_viz_eps_final, label=\"Positive EPS YOY - Pass\", color=\"g\")\n",
    "\n",
    "# Adding a legend axis labels\n",
    "ax.legend(ncol=1, loc=\"lower right\", frameon=True)\n",
    "ax.set(xlim=(0, 40),\n",
    "       ylabel=\"GICS Sector\",\n",
    "       xlabel=\"Number of Stocks\",\n",
    "       title='Step 4: EPS Filter - Removal Step')\n",
    "sns.despine(left=True, bottom=True)"
   ]
  },
  {
   "cell_type": "code",
   "execution_count": null,
   "metadata": {
    "colab": {
     "base_uri": "https://localhost:8080/",
     "height": 893
    },
    "id": "IYLwCwOl4RxG",
    "outputId": "c4824740-558c-4af4-ecea-8599dfaa4f63"
   },
   "outputs": [
    {
     "data": {
      "image/png": "[encoded data removed]",
      "text/plain": [
       "<Figure size 432x1080 with 1 Axes>"
      ]
     },
     "metadata": {
      "needs_background": "light",
      "tags": []
     },
     "output_type": "display_data"
    }
   ],
   "source": [
    "# Step 4 - Positive EPS YOY - visualizing stocks to keep:\n",
    "\n",
    "# Setting up seaborn\n",
    "import matplotlib.pyplot as plt\n",
    "import seaborn as sns\n",
    "f, ax = plt.subplots(figsize=(6, 15))\n",
    "\n",
    "# Commenting out the removed stocks  \n",
    "# sns.set_color_codes(\"bright\")\n",
    "# sns.barplot(x=\"Total\", y=\"GICS Sector\", data=df_viz_eps_final, label=\"Positive EPS YOY - Fail\", color=\"r\",hatch=\"//\")\n",
    "\n",
    "# Now, only displaying the stocks to keep  \n",
    "sns.set_color_codes(\"bright\")\n",
    "sns.barplot(x=\"Positive EPS YOY - Pass\", y=\"GICS Sector\", data=df_viz_eps_final, label=\"Positive EPS YOY - Pass\", color=\"g\")\n",
    "\n",
    "# Adding a legend and axis labels\n",
    "ax.legend(ncol=1, loc=\"lower right\", frameon=True)\n",
    "ax.set(xlim=(0, 40),\n",
    "       ylabel=\"GICS Sector\",\n",
    "       xlabel=\"Number of Stocks\",\n",
    "       title='Step 4: EPS Filter - Stocks Remaining after Filter')\n",
    "sns.despine(left=True, bottom=True)"
   ]
  }
 ],
 "metadata": {
  "colab": {
   "collapsed_sections": [
    "vQCIcCGSneol",
    "Ts8cLICTnlrl",
    "noyYnOyQcJWv"
   ],
   "name": "Visualizations_ValueInvestingStockPicks.ipynb",
   "provenance": []
  },
  "kernelspec": {
   "display_name": "Python 3",
   "language": "python",
   "name": "python3"
  },
  "language_info": {
   "codemirror_mode": {
    "name": "ipython",
    "version": 3
   },
   "file_extension": ".py",
   "mimetype": "text/x-python",
   "name": "python",
   "nbconvert_exporter": "python",
   "pygments_lexer": "ipython3",
   "version": "3.7.4"
  }
 },
 "nbformat": 4,
 "nbformat_minor": 1
}
